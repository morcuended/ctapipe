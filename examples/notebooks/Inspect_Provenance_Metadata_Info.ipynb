{
 "cells": [
  {
   "cell_type": "markdown",
   "metadata": {},
   "source": [
    "# Provenance info and metadata from *sim_telarray* files through pyhessio & ctapipe frameworks"
   ]
  },
  {
   "cell_type": "code",
   "execution_count": 1,
   "metadata": {},
   "outputs": [],
   "source": [
    "from ctapipe.utils.datasets import get_dataset\n",
    "from ctapipe.io import event_source, EventSeeker"
   ]
  },
  {
   "cell_type": "code",
   "execution_count": 2,
   "metadata": {},
   "outputs": [],
   "source": [
    "source = event_source(get_dataset(\"gamma_test.simtel.gz\"))\n",
    "seeker = EventSeeker(source)"
   ]
  },
  {
   "cell_type": "code",
   "execution_count": 3,
   "metadata": {},
   "outputs": [
    {
     "name": "stderr",
     "output_type": "stream",
     "text": [
      "WARNING:ctapipe.io.eventseeker.EventSeeker:Seeking to event by looping through events... (potentially long process)\n"
     ]
    }
   ],
   "source": [
    "event = seeker[0]"
   ]
  },
  {
   "cell_type": "code",
   "execution_count": 4,
   "metadata": {},
   "outputs": [
    {
     "data": {
      "text/plain": [
       "ctapipe.io.containers.MCHeaderContainer:\n",
       "           run_array_direction: the tracking/pointing direction in [radians].\n",
       "                                Depending on 'tracking_mode' this either\n",
       "                                contains: [0]=Azimuth, [1]=Altitude in mode 0,\n",
       "                                OR [0]=R.A., [1]=Declination in mode 1.\n",
       "                simtel_version: sim_telarray version * 1000\n",
       "                 prod_site_alt: height of observation level [m]\n",
       "               prod_site_coord: site (long., lat.) coordinates\n",
       "       prod_site_B_inclination: magnetic inclination [rad]\n",
       "             prod_site_B_total: total geomagnetic field [uT]\n",
       "                spectral_index: Power-law spectral index of spectrum\n",
       "               corsika_version: CORSIKA version * 1000\n",
       "            prod_site_subarray: site subarray\n",
       "              energy_range_max: Upper limit of energy range of primary particle\n",
       "                                [TeV]\n",
       "       prod_site_B_declination: magnetic declination [rad]\n",
       "              energy_range_min: Lower limit of energy range of primary particle\n",
       "                                [TeV]\n",
       "               prod_site_array: site array"
      ]
     },
     "execution_count": 4,
     "metadata": {},
     "output_type": "execute_result"
    }
   ],
   "source": [
    "event.mcheader"
   ]
  },
  {
   "cell_type": "code",
   "execution_count": 5,
   "metadata": {},
   "outputs": [
    {
     "name": "stdout",
     "output_type": "stream",
     "text": [
      "{'corsika_version': 6990,\n",
      " 'energy_range_max': <Quantity 330.0 TeV>,\n",
      " 'energy_range_min': <Quantity 0.003000000026077032 TeV>,\n",
      " 'prod_site_B_declination': <Angle 0.0 rad>,\n",
      " 'prod_site_B_inclination': <Angle -1.1581752300262451 rad>,\n",
      " 'prod_site_B_total': <Quantity 27.181243896484375 uT>,\n",
      " 'prod_site_alt': <Quantity 1640.0 m>,\n",
      " 'prod_site_array': 'None',\n",
      " 'prod_site_coord': 'None',\n",
      " 'prod_site_subarray': 'None',\n",
      " 'run_array_direction': array([ 0.        ,  1.22173047]),\n",
      " 'simtel_version': 1404919891,\n",
      " 'spectral_index': -2.0}\n"
     ]
    }
   ],
   "source": [
    "print(event.mcheader)"
   ]
  }
 ],
 "metadata": {
  "kernelspec": {
   "display_name": "Python 3",
   "language": "python",
   "name": "python3"
  },
  "language_info": {
   "codemirror_mode": {
    "name": "ipython",
    "version": 3
   },
   "file_extension": ".py",
   "mimetype": "text/x-python",
   "name": "python",
   "nbconvert_exporter": "python",
   "pygments_lexer": "ipython3",
   "version": "3.5.4"
  }
 },
 "nbformat": 4,
 "nbformat_minor": 2
}
